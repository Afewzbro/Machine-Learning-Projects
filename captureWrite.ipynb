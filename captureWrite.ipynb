{
  "cells": [
    {
      "cell_type": "code",
      "execution_count": null,
      "metadata": {
        "colab": {
          "background_save": true
        },
        "id": "bFfMuVC-1kpU",
        "outputId": "fd4769a2-9df8-4b1b-e897-9aa3d37dbde7"
      },
      "outputs": [
        {
          "name": "stdout",
          "output_type": "stream",
          "text": [
            "Looking in indexes: https://pypi.org/simple, https://us-python.pkg.dev/colab-wheels/public/simple/\n",
            "Requirement already satisfied: opencv-python in /usr/local/lib/python3.8/dist-packages (4.6.0.66)\n",
            "Requirement already satisfied: numpy>=1.14.5 in /usr/local/lib/python3.8/dist-packages (from opencv-python) (1.21.6)\n",
            "Looking in indexes: https://pypi.org/simple, https://us-python.pkg.dev/colab-wheels/public/simple/\n",
            "Requirement already satisfied: imutils in /usr/local/lib/python3.8/dist-packages (0.5.4)\n",
            "Looking in indexes: https://pypi.org/simple, https://us-python.pkg.dev/colab-wheels/public/simple/\n",
            "Requirement already satisfied: numpy in /usr/local/lib/python3.8/dist-packages (1.21.6)\n",
            "Looking in indexes: https://pypi.org/simple, https://us-python.pkg.dev/colab-wheels/public/simple/\n",
            "Collecting easyocr\n",
            "  Downloading easyocr-1.6.2-py3-none-any.whl (2.9 MB)\n",
            "\u001b[K     |████████████████████████████████| 2.9 MB 25.1 MB/s \n",
            "\u001b[?25hCollecting ninja\n",
            "  Downloading ninja-1.11.1-py2.py3-none-manylinux_2_12_x86_64.manylinux2010_x86_64.whl (145 kB)\n",
            "\u001b[K     |████████████████████████████████| 145 kB 65.4 MB/s \n",
            "\u001b[?25hRequirement already satisfied: numpy in /usr/local/lib/python3.8/dist-packages (from easyocr) (1.21.6)\n",
            "Requirement already satisfied: torch in /usr/local/lib/python3.8/dist-packages (from easyocr) (1.13.0+cu116)\n",
            "Requirement already satisfied: Shapely in /usr/local/lib/python3.8/dist-packages (from easyocr) (2.0.0)\n",
            "Collecting opencv-python-headless<=4.5.4.60\n",
            "  Downloading opencv_python_headless-4.5.4.60-cp38-cp38-manylinux_2_17_x86_64.manylinux2014_x86_64.whl (47.6 MB)\n",
            "\u001b[K     |█████████████████████████▋      | 38.0 MB 1.3 MB/s eta 0:00:08"
          ]
        }
      ],
      "source": [
        "!pip install opencv-python\n",
        "!pip install imutils\n",
        "!pip install numpy\n",
        "!pip install easyocr"
      ]
    },
    {
      "cell_type": "code",
      "execution_count": null,
      "metadata": {
        "id": "WN6QrbHi1uQ2"
      },
      "outputs": [],
      "source": [
        "import cv2\n",
        "import imutils\n",
        "import numpy as np\n",
        "import easyocr\n",
        "\n",
        "import datetime\n",
        "from time import time\n",
        "\n",
        "def write(message):\n",
        "    f = open(\"data.txt\", \"r\")\n",
        "    result = f.read().find(message)\n",
        "    f.close()\n",
        "    if result ==-1:\n",
        "        time = datetime.datetime.now()\n",
        "        f = open(\"data.txt\",\"a\")\n",
        "        f.write(message +\" \")\n",
        "        f.write(str(time)+\"\\n\")\n",
        "        f.close\n",
        "\n",
        "def rec(img):\n",
        "    #Filtreleme islemi\n",
        "    gray = cv2.cvtColor(img, cv2.COLOR_BGR2GRAY)\n",
        "    gray = cv2.bilateralFilter(gray, 11, 17, 17)\n",
        "    edged = cv2.Canny(gray, 30, 200)\n",
        "    try:\n",
        "        cnts = cv2.findContours(edged.copy(), cv2.RETR_TREE,cv2.CHAIN_APPROX_SIMPLE)\n",
        "        cnts = imutils.grab_contours(cnts)\n",
        "        cnts = sorted(cnts, key=cv2.contourArea, reverse=True)[:10]\n",
        "        screenCnt = None\n",
        "        for c in cnts:\n",
        "            peri = cv2.arcLength(c, True)\n",
        "            approx = cv2.approxPolyDP(c, 0.017 * peri, True)\n",
        "            if len(approx) == 4:\n",
        "                screenCnt = approx\n",
        "                break\n",
        "        if screenCnt is None:\n",
        "            detected = 0\n",
        "        else:\n",
        "            detected = 1\n",
        "\n",
        "        if detected == 1:\n",
        "            cv2.drawContours(img, [screenCnt], -1, (0, 255, 0), 3)\n",
        "        #Maskeleme islemi\n",
        "        mask = np.zeros(gray.shape, np.uint8)\n",
        "        new_image = cv2.drawContours(mask, [screenCnt], 0, 255, -1,)\n",
        "        new_image = cv2.bitwise_and(img, img, mask=mask)\n",
        "        #Kırma islemi\n",
        "        (x, y) = np.where(mask == 255)\n",
        "        (topx, topy) = (np.min(x), np.min(y))\n",
        "        (bottomx, bottomy) = (np.max(x), np.max(y))\n",
        "        Cropped = gray[topx:bottomx + 1, topy:bottomy + 1]\n",
        "        #EasyOCR islemi\n",
        "        reader = easyocr.Reader(['en'])\n",
        "        text = reader.readtext(Cropped)\n",
        "        text = text[0][1]\n",
        "        text = text.replace(\" \", \"\")\n",
        "        text = text.upper()\n",
        "        sonuc = 0\n",
        "        if(len(text)>=7):\n",
        "            if(int(text[0]) and int(text[1])):\n",
        "                if(str(text[4])):\n",
        "                    if(int(text[5:])):\n",
        "                        sonuc=1\n",
        "                else:\n",
        "                    if(int(text[4:])):\n",
        "                        sonuc=1\n",
        "        if(sonuc==1):\n",
        "            save.write(text)\n",
        "            print(text)\n",
        "    except Exception:\n",
        "        pass\n",
        "    return img\n",
        "\n",
        "\n",
        "import imageProcessing as imgprocess\n",
        "\n",
        "cap = cv2.VideoCapture(0)\n",
        "\n",
        "while True:\n",
        "    ret, frame = cap.read()\n",
        "    img = imgprocess.rec(frame)\n",
        "    cv2.imshow('Screen', img)\n",
        "    if cv2.waitKey(20) & 0xFF == ord('q'):\n",
        "        break\n",
        "\n",
        "cap.release()\n",
        "cv2.destroyAllWindows()"
      ]
    }
  ],
  "metadata": {
    "accelerator": "GPU",
    "colab": {
      "provenance": []
    },
    "gpuClass": "standard",
    "kernelspec": {
      "display_name": "Python 3",
      "name": "python3"
    },
    "language_info": {
      "name": "python"
    }
  },
  "nbformat": 4,
  "nbformat_minor": 0
}